{
 "cells": [
  {
   "cell_type": "markdown",
   "id": "ba05f31f",
   "metadata": {},
   "source": [
    "# <center> Module 2B Homework\n",
    "\n",
    "<center>  ISE-529 Predictive Analytics\n",
    "<center> Assignment"
   ]
  },
  {
   "cell_type": "markdown",
   "id": "eee11b7a",
   "metadata": {},
   "source": [
    "*Note:  In answering the following questions, you may only use functionality from Base Python, NumPy, Pandas, or Seaborn*"
   ]
  },
  {
   "cell_type": "markdown",
   "id": "1266b9d2",
   "metadata": {},
   "source": [
    "#### 1.  Evaluating regression functions"
   ]
  },
  {
   "cell_type": "markdown",
   "id": "c46d20da",
   "metadata": {},
   "source": [
    "1A)  The file \"HW 2 Problem 1 Data.xlsx\" contains two datasets - training and test in two different spreadsheet tabs.  Read the tables into two dataframes (training_data and test_data) and display the first 10 rows of each dataframe.  Hint - look up the Pandas function for reading in Excel files."
   ]
  },
  {
   "cell_type": "code",
   "execution_count": 1,
   "id": "068e4a68",
   "metadata": {
    "scrolled": true
   },
   "outputs": [
    {
     "data": {
      "text/html": [
       "<div>\n",
       "<style scoped>\n",
       "    .dataframe tbody tr th:only-of-type {\n",
       "        vertical-align: middle;\n",
       "    }\n",
       "\n",
       "    .dataframe tbody tr th {\n",
       "        vertical-align: top;\n",
       "    }\n",
       "\n",
       "    .dataframe thead th {\n",
       "        text-align: right;\n",
       "    }\n",
       "</style>\n",
       "<table border=\"1\" class=\"dataframe\">\n",
       "  <thead>\n",
       "    <tr style=\"text-align: right;\">\n",
       "      <th></th>\n",
       "      <th>X</th>\n",
       "      <th>Y</th>\n",
       "    </tr>\n",
       "  </thead>\n",
       "  <tbody>\n",
       "    <tr>\n",
       "      <th>0</th>\n",
       "      <td>22.461229</td>\n",
       "      <td>1777.640170</td>\n",
       "    </tr>\n",
       "    <tr>\n",
       "      <th>1</th>\n",
       "      <td>84.889232</td>\n",
       "      <td>4119.062075</td>\n",
       "    </tr>\n",
       "    <tr>\n",
       "      <th>2</th>\n",
       "      <td>87.522032</td>\n",
       "      <td>3949.307419</td>\n",
       "    </tr>\n",
       "    <tr>\n",
       "      <th>3</th>\n",
       "      <td>14.696069</td>\n",
       "      <td>1598.543037</td>\n",
       "    </tr>\n",
       "    <tr>\n",
       "      <th>4</th>\n",
       "      <td>3.402483</td>\n",
       "      <td>293.380868</td>\n",
       "    </tr>\n",
       "    <tr>\n",
       "      <th>5</th>\n",
       "      <td>30.418684</td>\n",
       "      <td>1536.785742</td>\n",
       "    </tr>\n",
       "    <tr>\n",
       "      <th>6</th>\n",
       "      <td>41.611263</td>\n",
       "      <td>1847.445321</td>\n",
       "    </tr>\n",
       "    <tr>\n",
       "      <th>7</th>\n",
       "      <td>13.689247</td>\n",
       "      <td>789.595510</td>\n",
       "    </tr>\n",
       "    <tr>\n",
       "      <th>8</th>\n",
       "      <td>92.638951</td>\n",
       "      <td>4638.075124</td>\n",
       "    </tr>\n",
       "    <tr>\n",
       "      <th>9</th>\n",
       "      <td>74.219724</td>\n",
       "      <td>2850.494496</td>\n",
       "    </tr>\n",
       "  </tbody>\n",
       "</table>\n",
       "</div>"
      ],
      "text/plain": [
       "           X            Y\n",
       "0  22.461229  1777.640170\n",
       "1  84.889232  4119.062075\n",
       "2  87.522032  3949.307419\n",
       "3  14.696069  1598.543037\n",
       "4   3.402483   293.380868\n",
       "5  30.418684  1536.785742\n",
       "6  41.611263  1847.445321\n",
       "7  13.689247   789.595510\n",
       "8  92.638951  4638.075124\n",
       "9  74.219724  2850.494496"
      ]
     },
     "execution_count": 1,
     "metadata": {},
     "output_type": "execute_result"
    }
   ],
   "source": [
    "import pandas as pd\n",
    "training_data = pd.read_csv(r'C:\\Users\\Jerry\\OneDrive - University of Southern California\\Desktop\\ISE_529\\HW2\\Problem 1 Training Dataset.csv')\n",
    "test_data = pd.read_csv(r'C:\\Users\\Jerry\\OneDrive - University of Southern California\\Desktop\\ISE_529\\HW2\\Problem 1 Test Dataset.csv')\n",
    "training_data.head(10)"
   ]
  },
  {
   "cell_type": "code",
   "execution_count": 2,
   "id": "114437b2",
   "metadata": {},
   "outputs": [
    {
     "data": {
      "text/html": [
       "<div>\n",
       "<style scoped>\n",
       "    .dataframe tbody tr th:only-of-type {\n",
       "        vertical-align: middle;\n",
       "    }\n",
       "\n",
       "    .dataframe tbody tr th {\n",
       "        vertical-align: top;\n",
       "    }\n",
       "\n",
       "    .dataframe thead th {\n",
       "        text-align: right;\n",
       "    }\n",
       "</style>\n",
       "<table border=\"1\" class=\"dataframe\">\n",
       "  <thead>\n",
       "    <tr style=\"text-align: right;\">\n",
       "      <th></th>\n",
       "      <th>X</th>\n",
       "      <th>Y</th>\n",
       "    </tr>\n",
       "  </thead>\n",
       "  <tbody>\n",
       "    <tr>\n",
       "      <th>0</th>\n",
       "      <td>41.535269</td>\n",
       "      <td>1193.508446</td>\n",
       "    </tr>\n",
       "    <tr>\n",
       "      <th>1</th>\n",
       "      <td>86.563634</td>\n",
       "      <td>4115.877672</td>\n",
       "    </tr>\n",
       "    <tr>\n",
       "      <th>2</th>\n",
       "      <td>20.192209</td>\n",
       "      <td>1601.366850</td>\n",
       "    </tr>\n",
       "    <tr>\n",
       "      <th>3</th>\n",
       "      <td>47.974340</td>\n",
       "      <td>2572.686060</td>\n",
       "    </tr>\n",
       "    <tr>\n",
       "      <th>4</th>\n",
       "      <td>83.449552</td>\n",
       "      <td>4110.238516</td>\n",
       "    </tr>\n",
       "    <tr>\n",
       "      <th>5</th>\n",
       "      <td>90.662401</td>\n",
       "      <td>3463.665650</td>\n",
       "    </tr>\n",
       "    <tr>\n",
       "      <th>6</th>\n",
       "      <td>13.262197</td>\n",
       "      <td>1540.725682</td>\n",
       "    </tr>\n",
       "    <tr>\n",
       "      <th>7</th>\n",
       "      <td>42.822816</td>\n",
       "      <td>3299.177263</td>\n",
       "    </tr>\n",
       "    <tr>\n",
       "      <th>8</th>\n",
       "      <td>92.369626</td>\n",
       "      <td>3345.980165</td>\n",
       "    </tr>\n",
       "    <tr>\n",
       "      <th>9</th>\n",
       "      <td>65.219225</td>\n",
       "      <td>4403.195082</td>\n",
       "    </tr>\n",
       "  </tbody>\n",
       "</table>\n",
       "</div>"
      ],
      "text/plain": [
       "           X            Y\n",
       "0  41.535269  1193.508446\n",
       "1  86.563634  4115.877672\n",
       "2  20.192209  1601.366850\n",
       "3  47.974340  2572.686060\n",
       "4  83.449552  4110.238516\n",
       "5  90.662401  3463.665650\n",
       "6  13.262197  1540.725682\n",
       "7  42.822816  3299.177263\n",
       "8  92.369626  3345.980165\n",
       "9  65.219225  4403.195082"
      ]
     },
     "execution_count": 2,
     "metadata": {},
     "output_type": "execute_result"
    }
   ],
   "source": [
    "test_data.head(10)"
   ]
  },
  {
   "cell_type": "markdown",
   "id": "4f84156b",
   "metadata": {},
   "source": [
    "1b)  Using Seaborn, create scatterplots of the two dataframes.  For full credit, include a title (\"Training Data\" and \"Test Data\") for the two scatterplots."
   ]
  },
  {
   "cell_type": "code",
   "execution_count": 3,
   "id": "60b786f2",
   "metadata": {},
   "outputs": [
    {
     "data": {
      "text/plain": [
       "Text(0.5, 1.0, 'Training Data')"
      ]
     },
     "execution_count": 3,
     "metadata": {},
     "output_type": "execute_result"
    },
    {
     "data": {
      "image/png": "[encoded data removed]",
      "text/plain": [
       "<Figure size 432x288 with 1 Axes>"
      ]
     },
     "metadata": {
      "needs_background": "light"
     },
     "output_type": "display_data"
    }
   ],
   "source": [
    "import seaborn as sns\n",
    "\n",
    "training_plot = sns.scatterplot(x=training_data['X'], y=training_data['Y'])\n",
    "training_plot.set_xlabel(\"X\", fontsize = 10)\n",
    "training_plot.set_ylabel(\"Y\", fontsize = 10)\n",
    "training_plot.set_title(\"Training Data\")"
   ]
  },
  {
   "cell_type": "code",
   "execution_count": 4,
   "id": "08d49141",
   "metadata": {},
   "outputs": [
    {
     "data": {
      "text/plain": [
       "Text(0.5, 1.0, 'Test Data')"
      ]
     },
     "execution_count": 4,
     "metadata": {},
     "output_type": "execute_result"
    },
    {
     "data": {
      "image/png": "[encoded data removed]",
      "text/plain": [
       "<Figure size 432x288 with 1 Axes>"
      ]
     },
     "metadata": {
      "needs_background": "light"
     },
     "output_type": "display_data"
    }
   ],
   "source": [
    "import seaborn as sns\n",
    "\n",
    "test_plot = sns.scatterplot(x=test_data['X'], y=test_data['Y'])\n",
    "test_plot.set_xlabel(\"X\", fontsize = 10)\n",
    "test_plot.set_ylabel(\"Y\", fontsize = 10)\n",
    "test_plot.set_title(\"Test Data\")"
   ]
  },
  {
   "cell_type": "markdown",
   "id": "ae4041c9",
   "metadata": {},
   "source": [
    "1c)  Now, we are going to calculate the test and training MSEs for three different candidate regression models:\n",
    "  - F1:  $40x + 500$\n",
    "  - F2:  $0.25x^2 + 15x + 915$\n",
    "  - F3:  $0.001x^3 +0.07x^2 + 22xx - 860$"
   ]
  },
  {
   "cell_type": "markdown",
   "id": "b3bcf698",
   "metadata": {},
   "source": [
    "Create three functions for these three candidate models - f1(), f2(), and f3().  They should take as an input $x$ and return the predicted value of $y$ corresponding to that input:"
   ]
  },
  {
   "cell_type": "code",
   "execution_count": 5,
   "id": "e17ad846",
   "metadata": {},
   "outputs": [
    {
     "data": {
      "text/plain": [
       "0      1398.449156\n",
       "1      3895.569280\n",
       "2      4000.881296\n",
       "3      1087.842778\n",
       "4       636.099306\n",
       "          ...     \n",
       "995    1085.947716\n",
       "996    1035.754885\n",
       "997    3653.309160\n",
       "998    1585.950785\n",
       "999    3811.202938\n",
       "Name: X, Length: 1000, dtype: float64"
      ]
     },
     "execution_count": 5,
     "metadata": {},
     "output_type": "execute_result"
    }
   ],
   "source": [
    "def F1(x):\n",
    "    y = 40*x+500\n",
    "    return y\n",
    "def F2(x):\n",
    "    y = 0.25*(x*x) + 15*x + 915\n",
    "    return y\n",
    "def F3(x):\n",
    "    y = 0.001*(x**3) + 0.07*(x**2) + 22*x - 860\n",
    "    return y\n",
    "F1(training_data['X'])"
   ]
  },
  {
   "cell_type": "code",
   "execution_count": 6,
   "id": "7d4245e6",
   "metadata": {},
   "outputs": [
    {
     "data": {
      "text/plain": [
       "0      1378.045134\n",
       "1      3989.883908\n",
       "2      4142.857025\n",
       "3      1189.434656\n",
       "4       968.931462\n",
       "          ...     \n",
       "995    1188.376445\n",
       "996    1160.757034\n",
       "997    3651.140725\n",
       "998    1506.495467\n",
       "999    3869.836241\n",
       "Name: X, Length: 1000, dtype: float64"
      ]
     },
     "execution_count": 6,
     "metadata": {},
     "output_type": "execute_result"
    }
   ],
   "source": [
    "F2(training_data['X'])"
   ]
  },
  {
   "cell_type": "code",
   "execution_count": 7,
   "id": "cea4f878",
   "metadata": {},
   "outputs": [
    {
     "data": {
      "text/plain": [
       "0      -319.205645\n",
       "1      2123.723055\n",
       "2      2272.120203\n",
       "3      -518.394284\n",
       "4      -784.295609\n",
       "          ...     \n",
       "995    -519.564484\n",
       "996    -550.374302\n",
       "997    1799.255790\n",
       "998    -191.123015\n",
       "999    2008.093265\n",
       "Name: X, Length: 1000, dtype: float64"
      ]
     },
     "execution_count": 7,
     "metadata": {},
     "output_type": "execute_result"
    }
   ],
   "source": [
    "F3(training_data['X'])"
   ]
  },
  {
   "cell_type": "markdown",
   "id": "08a77d6a",
   "metadata": {},
   "source": [
    "1d)  Now, write a function calc_mse() that takes three parameter inputs:\n",
    "  - $x$ - an array (or Pandas series) of predictor $X$ values\n",
    "  - $y$ - an array (or Pandas series) of response $Y$ values\n",
    "  - $f$ - a function to be called for each value of the $x$ and $y$ arrays\n",
    "  \n",
    "The function should calculate the MSE for the function $f$ using the $x$ and $y$ data arrays"
   ]
  },
  {
   "cell_type": "code",
   "execution_count": 8,
   "id": "0558f478",
   "metadata": {},
   "outputs": [],
   "source": [
    "def calc_mse(x, y, f):\n",
    "    tse = 0\n",
    "    predict_y = f(x)\n",
    "    se = (y - predict_y)**2\n",
    "    tse += se\n",
    "    return sum(tse)/len(y)"
   ]
  },
  {
   "cell_type": "markdown",
   "id": "3922efb5",
   "metadata": {},
   "source": [
    "1e)  Call this calc_mse function six times to calculate the training and test MSE for each of the three models:"
   ]
  },
  {
   "cell_type": "code",
   "execution_count": 9,
   "id": "db0a794c",
   "metadata": {
    "scrolled": true
   },
   "outputs": [
    {
     "data": {
      "text/plain": [
       "651579.9579588172"
      ]
     },
     "execution_count": 9,
     "metadata": {},
     "output_type": "execute_result"
    }
   ],
   "source": [
    "calc_mse(training_data['X'], training_data['Y'], F1)"
   ]
  },
  {
   "cell_type": "code",
   "execution_count": 10,
   "id": "149dbbb7",
   "metadata": {},
   "outputs": [
    {
     "data": {
      "text/plain": [
       "617950.7022509753"
      ]
     },
     "execution_count": 10,
     "metadata": {},
     "output_type": "execute_result"
    }
   ],
   "source": [
    "calc_mse(training_data['X'], training_data['Y'], F2)"
   ]
  },
  {
   "cell_type": "code",
   "execution_count": 11,
   "id": "5c0847d2",
   "metadata": {},
   "outputs": [
    {
     "data": {
      "text/plain": [
       "3746108.2459175778"
      ]
     },
     "execution_count": 11,
     "metadata": {},
     "output_type": "execute_result"
    }
   ],
   "source": [
    "calc_mse(training_data['X'], training_data['Y'], F3)"
   ]
  },
  {
   "cell_type": "code",
   "execution_count": 12,
   "id": "7258937b",
   "metadata": {},
   "outputs": [
    {
     "data": {
      "text/plain": [
       "641128.8822276224"
      ]
     },
     "execution_count": 12,
     "metadata": {},
     "output_type": "execute_result"
    }
   ],
   "source": [
    "calc_mse(test_data['X'], test_data['Y'], F1)"
   ]
  },
  {
   "cell_type": "code",
   "execution_count": 13,
   "id": "3fe9633a",
   "metadata": {},
   "outputs": [
    {
     "data": {
      "text/plain": [
       "601065.5232581273"
      ]
     },
     "execution_count": 13,
     "metadata": {},
     "output_type": "execute_result"
    }
   ],
   "source": [
    "calc_mse(test_data['X'], test_data['Y'], F2)"
   ]
  },
  {
   "cell_type": "code",
   "execution_count": 14,
   "id": "e36bd064",
   "metadata": {},
   "outputs": [
    {
     "data": {
      "text/plain": [
       "3643289.575973654"
      ]
     },
     "execution_count": 14,
     "metadata": {},
     "output_type": "execute_result"
    }
   ],
   "source": [
    "calc_mse(test_data['X'], test_data['Y'], F3)"
   ]
  },
  {
   "cell_type": "markdown",
   "id": "80f769a7",
   "metadata": {},
   "source": [
    "1f)  Which of the three models would you select for use and why?"
   ]
  },
  {
   "cell_type": "markdown",
   "id": "b9c4e3cb",
   "metadata": {},
   "source": [
    "I will use F2, because in both training data and test data F2 has the lowest MSE."
   ]
  },
  {
   "cell_type": "markdown",
   "id": "af7d3223",
   "metadata": {},
   "source": [
    "1g) Insted of writing functions, write a single line of Python code to calculate the test MSE for function F1.  Hint:  use the Python map and lambda functions."
   ]
  },
  {
   "cell_type": "code",
   "execution_count": 15,
   "id": "02d73f02",
   "metadata": {},
   "outputs": [
    {
     "data": {
      "text/plain": [
       "641128.8822276226"
      ]
     },
     "execution_count": 15,
     "metadata": {},
     "output_type": "execute_result"
    }
   ],
   "source": [
    "mse = F1(test_data['X']) - test_data['Y']\n",
    "sum(list(map(lambda n: n ** 2 / len(mse), mse)))"
   ]
  },
  {
   "cell_type": "markdown",
   "id": "d2240699",
   "metadata": {},
   "source": [
    "#### 2.  KNN and Calculate Misclassification Rates"
   ]
  },
  {
   "cell_type": "markdown",
   "id": "2fdbf553",
   "metadata": {},
   "source": [
    "2a)  Read the file \"Problem 2 Training Dataset.csv\" into a dataframe called knn_training_data and the file 'Problem 2 Test Dataset.csv' into a dataframe called knn_test_data.  Display the first 10 rows of the knn_training_data dataframe."
   ]
  },
  {
   "cell_type": "code",
   "execution_count": 16,
   "id": "c7bfc903",
   "metadata": {},
   "outputs": [
    {
     "data": {
      "text/html": [
       "<div>\n",
       "<style scoped>\n",
       "    .dataframe tbody tr th:only-of-type {\n",
       "        vertical-align: middle;\n",
       "    }\n",
       "\n",
       "    .dataframe tbody tr th {\n",
       "        vertical-align: top;\n",
       "    }\n",
       "\n",
       "    .dataframe thead th {\n",
       "        text-align: right;\n",
       "    }\n",
       "</style>\n",
       "<table border=\"1\" class=\"dataframe\">\n",
       "  <thead>\n",
       "    <tr style=\"text-align: right;\">\n",
       "      <th></th>\n",
       "      <th>X1</th>\n",
       "      <th>X2</th>\n",
       "      <th>Y</th>\n",
       "    </tr>\n",
       "  </thead>\n",
       "  <tbody>\n",
       "    <tr>\n",
       "      <th>0</th>\n",
       "      <td>68.936765</td>\n",
       "      <td>27.289798</td>\n",
       "      <td>Yellow</td>\n",
       "    </tr>\n",
       "    <tr>\n",
       "      <th>1</th>\n",
       "      <td>6.441438</td>\n",
       "      <td>94.429682</td>\n",
       "      <td>Red</td>\n",
       "    </tr>\n",
       "    <tr>\n",
       "      <th>2</th>\n",
       "      <td>11.456609</td>\n",
       "      <td>90.660702</td>\n",
       "      <td>Red</td>\n",
       "    </tr>\n",
       "    <tr>\n",
       "      <th>3</th>\n",
       "      <td>15.934097</td>\n",
       "      <td>28.927926</td>\n",
       "      <td>Red</td>\n",
       "    </tr>\n",
       "    <tr>\n",
       "      <th>4</th>\n",
       "      <td>44.847427</td>\n",
       "      <td>10.069445</td>\n",
       "      <td>Yellow</td>\n",
       "    </tr>\n",
       "    <tr>\n",
       "      <th>5</th>\n",
       "      <td>59.249555</td>\n",
       "      <td>62.548411</td>\n",
       "      <td>Blue</td>\n",
       "    </tr>\n",
       "    <tr>\n",
       "      <th>6</th>\n",
       "      <td>6.524247</td>\n",
       "      <td>86.135853</td>\n",
       "      <td>Red</td>\n",
       "    </tr>\n",
       "    <tr>\n",
       "      <th>7</th>\n",
       "      <td>10.158818</td>\n",
       "      <td>83.543817</td>\n",
       "      <td>Red</td>\n",
       "    </tr>\n",
       "    <tr>\n",
       "      <th>8</th>\n",
       "      <td>93.640622</td>\n",
       "      <td>32.986361</td>\n",
       "      <td>Yellow</td>\n",
       "    </tr>\n",
       "    <tr>\n",
       "      <th>9</th>\n",
       "      <td>18.484073</td>\n",
       "      <td>56.248987</td>\n",
       "      <td>Red</td>\n",
       "    </tr>\n",
       "  </tbody>\n",
       "</table>\n",
       "</div>"
      ],
      "text/plain": [
       "          X1         X2       Y\n",
       "0  68.936765  27.289798  Yellow\n",
       "1   6.441438  94.429682     Red\n",
       "2  11.456609  90.660702     Red\n",
       "3  15.934097  28.927926     Red\n",
       "4  44.847427  10.069445  Yellow\n",
       "5  59.249555  62.548411    Blue\n",
       "6   6.524247  86.135853     Red\n",
       "7  10.158818  83.543817     Red\n",
       "8  93.640622  32.986361  Yellow\n",
       "9  18.484073  56.248987     Red"
      ]
     },
     "execution_count": 16,
     "metadata": {},
     "output_type": "execute_result"
    }
   ],
   "source": [
    "knn_training_data = pd.read_csv(r'C:\\Users\\Jerry\\OneDrive - University of Southern California\\Desktop\\ISE_529\\HW2\\Problem 2 Training Dataset.csv')\n",
    "knn_test_data = pd.read_csv(r'C:\\Users\\Jerry\\OneDrive - University of Southern California\\Desktop\\ISE_529\\HW2\\Problem 2 Test Dataset.csv')\n",
    "knn_training_data.head(10)"
   ]
  },
  {
   "cell_type": "code",
   "execution_count": 17,
   "id": "0af04255",
   "metadata": {},
   "outputs": [
    {
     "data": {
      "text/html": [
       "<div>\n",
       "<style scoped>\n",
       "    .dataframe tbody tr th:only-of-type {\n",
       "        vertical-align: middle;\n",
       "    }\n",
       "\n",
       "    .dataframe tbody tr th {\n",
       "        vertical-align: top;\n",
       "    }\n",
       "\n",
       "    .dataframe thead th {\n",
       "        text-align: right;\n",
       "    }\n",
       "</style>\n",
       "<table border=\"1\" class=\"dataframe\">\n",
       "  <thead>\n",
       "    <tr style=\"text-align: right;\">\n",
       "      <th></th>\n",
       "      <th>X1</th>\n",
       "      <th>X2</th>\n",
       "      <th>Y</th>\n",
       "    </tr>\n",
       "  </thead>\n",
       "  <tbody>\n",
       "    <tr>\n",
       "      <th>0</th>\n",
       "      <td>58.271758</td>\n",
       "      <td>21.169050</td>\n",
       "      <td>Yellow</td>\n",
       "    </tr>\n",
       "    <tr>\n",
       "      <th>1</th>\n",
       "      <td>52.610102</td>\n",
       "      <td>58.256975</td>\n",
       "      <td>Blue</td>\n",
       "    </tr>\n",
       "    <tr>\n",
       "      <th>2</th>\n",
       "      <td>22.743925</td>\n",
       "      <td>46.292871</td>\n",
       "      <td>Red</td>\n",
       "    </tr>\n",
       "    <tr>\n",
       "      <th>3</th>\n",
       "      <td>22.928611</td>\n",
       "      <td>23.782804</td>\n",
       "      <td>Red</td>\n",
       "    </tr>\n",
       "    <tr>\n",
       "      <th>4</th>\n",
       "      <td>28.829606</td>\n",
       "      <td>26.873953</td>\n",
       "      <td>Red</td>\n",
       "    </tr>\n",
       "    <tr>\n",
       "      <th>5</th>\n",
       "      <td>41.769966</td>\n",
       "      <td>84.340371</td>\n",
       "      <td>Blue</td>\n",
       "    </tr>\n",
       "    <tr>\n",
       "      <th>6</th>\n",
       "      <td>78.783755</td>\n",
       "      <td>10.819478</td>\n",
       "      <td>Yellow</td>\n",
       "    </tr>\n",
       "    <tr>\n",
       "      <th>7</th>\n",
       "      <td>58.959003</td>\n",
       "      <td>33.807893</td>\n",
       "      <td>Yellow</td>\n",
       "    </tr>\n",
       "    <tr>\n",
       "      <th>8</th>\n",
       "      <td>32.103775</td>\n",
       "      <td>83.987495</td>\n",
       "      <td>Red</td>\n",
       "    </tr>\n",
       "    <tr>\n",
       "      <th>9</th>\n",
       "      <td>44.027745</td>\n",
       "      <td>79.680364</td>\n",
       "      <td>Blue</td>\n",
       "    </tr>\n",
       "  </tbody>\n",
       "</table>\n",
       "</div>"
      ],
      "text/plain": [
       "          X1         X2       Y\n",
       "0  58.271758  21.169050  Yellow\n",
       "1  52.610102  58.256975    Blue\n",
       "2  22.743925  46.292871     Red\n",
       "3  22.928611  23.782804     Red\n",
       "4  28.829606  26.873953     Red\n",
       "5  41.769966  84.340371    Blue\n",
       "6  78.783755  10.819478  Yellow\n",
       "7  58.959003  33.807893  Yellow\n",
       "8  32.103775  83.987495     Red\n",
       "9  44.027745  79.680364    Blue"
      ]
     },
     "execution_count": 17,
     "metadata": {},
     "output_type": "execute_result"
    }
   ],
   "source": [
    "knn_test_data.head(10)"
   ]
  },
  {
   "cell_type": "markdown",
   "id": "8bed4f75",
   "metadata": {},
   "source": [
    "2b)  Using Seaborn, create a color-coded scatterplot of the training data (where each point is colored with its category color).  For full credit, be sure to color the points correctly with yellow, blue, and red colors. "
   ]
  },
  {
   "cell_type": "code",
   "execution_count": 18,
   "id": "277fcef7",
   "metadata": {
    "scrolled": true
   },
   "outputs": [
    {
     "data": {
      "text/plain": [
       "<AxesSubplot:xlabel='X1', ylabel='X2'>"
      ]
     },
     "execution_count": 18,
     "metadata": {},
     "output_type": "execute_result"
    },
    {
     "data": {
      "image/png": "[encoded data removed]",
      "text/plain": [
       "<Figure size 432x288 with 1 Axes>"
      ]
     },
     "metadata": {
      "needs_background": "light"
     },
     "output_type": "display_data"
    }
   ],
   "source": [
    "sns.scatterplot(data=knn_training_data, x=\"X1\", y=\"X2\", hue=\"Y\", palette=['yellow','red','blue'])"
   ]
  },
  {
   "cell_type": "markdown",
   "id": "300c46fa",
   "metadata": {},
   "source": [
    "Now, we are going to create and assess predictions for the category of the test data using KNN-1 and KNN-3 algorithms. \n",
    "\n",
    "The problem sub-parts below will step you through the process of doing this."
   ]
  },
  {
   "cell_type": "markdown",
   "id": "e276f424",
   "metadata": {},
   "source": [
    "2c)  Create a two-dimensional numpy array of size 20x80 that has the distance of each training set observation to each test set observation.  Use a Euclidean formula to calculate the distances.  Display the first row of the distance table (this row will show the distance of each training observation from the first observation in the test dataset)"
   ]
  },
  {
   "cell_type": "code",
   "execution_count": 19,
   "id": "477daa66",
   "metadata": {},
   "outputs": [
    {
     "data": {
      "text/plain": [
       "array([12.29658237, 89.74130698, 83.78990275, 43.04274198, 17.41877939,\n",
       "       41.39091196, 83.05715112, 78.77478316, 37.29082173, 53.04396176,\n",
       "       70.98435797, 58.52378458, 28.0393509 , 43.19596561, 39.39910164,\n",
       "       33.4528812 , 75.25960415, 31.50833222, 36.92126057, 38.83946741,\n",
       "       52.57468049, 63.07598622, 37.54910519, 63.66810929, 25.1636151 ,\n",
       "       31.39676473, 64.09588742, 46.43146979, 26.22125121, 20.11286953,\n",
       "       37.74853053, 73.70675387, 42.22043287, 10.11253521, 59.55635032,\n",
       "       91.78112791, 63.53613445, 39.92979242, 60.14544456, 73.47224603,\n",
       "       68.98583631, 75.55607563, 39.24193717, 70.85918548, 60.88455637,\n",
       "       24.45510013, 47.77384456, 67.91756101, 47.48547634, 51.30419819,\n",
       "       61.07020394, 90.13450125, 68.4198678 , 46.18883752, 57.99700863,\n",
       "       30.52704445, 24.37353434, 76.72704702, 41.43093592, 47.66129537,\n",
       "       42.53703099, 22.20746811, 34.49008451, 11.62225603, 20.56583871,\n",
       "       12.9965694 , 36.43270978, 23.82595957, 65.54942848, 64.48911156,\n",
       "       18.94698742, 48.61487088, 79.97236411, 83.32583955, 59.79354284,\n",
       "       18.15833717, 58.51667172, 42.00079708, 30.98695996, 38.74699168])"
      ]
     },
     "execution_count": 19,
     "metadata": {},
     "output_type": "execute_result"
    }
   ],
   "source": [
    "import numpy as np\n",
    "a = np.array(knn_test_data[['X1', 'X2']])\n",
    "b = np.array(knn_training_data[['X1', 'X2']])\n",
    "distance = []\n",
    "for i in a:\n",
    "    for j in b:\n",
    "        distance.append((((i[0] - j[0])**2) + ((i[1] - j[1])**2))**0.5)\n",
    "dist = np.array(distance).reshape((20,80))\n",
    "dist[0]"
   ]
  },
  {
   "cell_type": "markdown",
   "id": "d1ef68b1",
   "metadata": {},
   "source": [
    "2d)  Now create a dataframe with 20 rows (one per observation in the test dataset) and 3 columns labeled 'nn1_cat', 'nn2_cat', and 'nn3_cat'.  Populate the dataframe with the category color for the first, second, and third nearest neighbor for each observation.\n",
    "\n",
    "Display the first ten rows of this dataframe"
   ]
  },
  {
   "cell_type": "code",
   "execution_count": 20,
   "id": "91898601",
   "metadata": {},
   "outputs": [
    {
     "data": {
      "text/html": [
       "<div>\n",
       "<style scoped>\n",
       "    .dataframe tbody tr th:only-of-type {\n",
       "        vertical-align: middle;\n",
       "    }\n",
       "\n",
       "    .dataframe tbody tr th {\n",
       "        vertical-align: top;\n",
       "    }\n",
       "\n",
       "    .dataframe thead th {\n",
       "        text-align: right;\n",
       "    }\n",
       "</style>\n",
       "<table border=\"1\" class=\"dataframe\">\n",
       "  <thead>\n",
       "    <tr style=\"text-align: right;\">\n",
       "      <th></th>\n",
       "      <th>X1</th>\n",
       "      <th>X2</th>\n",
       "      <th>Y</th>\n",
       "    </tr>\n",
       "  </thead>\n",
       "  <tbody>\n",
       "    <tr>\n",
       "      <th>0</th>\n",
       "      <td>58.271758</td>\n",
       "      <td>21.169050</td>\n",
       "      <td>Yellow</td>\n",
       "    </tr>\n",
       "    <tr>\n",
       "      <th>1</th>\n",
       "      <td>52.610102</td>\n",
       "      <td>58.256975</td>\n",
       "      <td>Blue</td>\n",
       "    </tr>\n",
       "    <tr>\n",
       "      <th>2</th>\n",
       "      <td>22.743925</td>\n",
       "      <td>46.292871</td>\n",
       "      <td>Red</td>\n",
       "    </tr>\n",
       "    <tr>\n",
       "      <th>3</th>\n",
       "      <td>22.928611</td>\n",
       "      <td>23.782804</td>\n",
       "      <td>Red</td>\n",
       "    </tr>\n",
       "    <tr>\n",
       "      <th>4</th>\n",
       "      <td>28.829606</td>\n",
       "      <td>26.873953</td>\n",
       "      <td>Red</td>\n",
       "    </tr>\n",
       "    <tr>\n",
       "      <th>5</th>\n",
       "      <td>41.769966</td>\n",
       "      <td>84.340371</td>\n",
       "      <td>Blue</td>\n",
       "    </tr>\n",
       "    <tr>\n",
       "      <th>6</th>\n",
       "      <td>78.783755</td>\n",
       "      <td>10.819478</td>\n",
       "      <td>Yellow</td>\n",
       "    </tr>\n",
       "    <tr>\n",
       "      <th>7</th>\n",
       "      <td>58.959003</td>\n",
       "      <td>33.807893</td>\n",
       "      <td>Yellow</td>\n",
       "    </tr>\n",
       "    <tr>\n",
       "      <th>8</th>\n",
       "      <td>32.103775</td>\n",
       "      <td>83.987495</td>\n",
       "      <td>Red</td>\n",
       "    </tr>\n",
       "    <tr>\n",
       "      <th>9</th>\n",
       "      <td>44.027745</td>\n",
       "      <td>79.680364</td>\n",
       "      <td>Blue</td>\n",
       "    </tr>\n",
       "    <tr>\n",
       "      <th>10</th>\n",
       "      <td>19.975157</td>\n",
       "      <td>74.638950</td>\n",
       "      <td>Red</td>\n",
       "    </tr>\n",
       "    <tr>\n",
       "      <th>11</th>\n",
       "      <td>80.302039</td>\n",
       "      <td>17.092523</td>\n",
       "      <td>Yellow</td>\n",
       "    </tr>\n",
       "    <tr>\n",
       "      <th>12</th>\n",
       "      <td>62.331146</td>\n",
       "      <td>73.776701</td>\n",
       "      <td>Blue</td>\n",
       "    </tr>\n",
       "    <tr>\n",
       "      <th>13</th>\n",
       "      <td>93.856101</td>\n",
       "      <td>75.450254</td>\n",
       "      <td>Blue</td>\n",
       "    </tr>\n",
       "    <tr>\n",
       "      <th>14</th>\n",
       "      <td>32.084074</td>\n",
       "      <td>96.897156</td>\n",
       "      <td>Red</td>\n",
       "    </tr>\n",
       "    <tr>\n",
       "      <th>15</th>\n",
       "      <td>52.206662</td>\n",
       "      <td>31.953817</td>\n",
       "      <td>Yellow</td>\n",
       "    </tr>\n",
       "    <tr>\n",
       "      <th>16</th>\n",
       "      <td>21.256381</td>\n",
       "      <td>40.664401</td>\n",
       "      <td>Red</td>\n",
       "    </tr>\n",
       "    <tr>\n",
       "      <th>17</th>\n",
       "      <td>96.179212</td>\n",
       "      <td>99.219155</td>\n",
       "      <td>Blue</td>\n",
       "    </tr>\n",
       "    <tr>\n",
       "      <th>18</th>\n",
       "      <td>26.891624</td>\n",
       "      <td>51.395696</td>\n",
       "      <td>Red</td>\n",
       "    </tr>\n",
       "    <tr>\n",
       "      <th>19</th>\n",
       "      <td>74.170739</td>\n",
       "      <td>86.893470</td>\n",
       "      <td>Blue</td>\n",
       "    </tr>\n",
       "  </tbody>\n",
       "</table>\n",
       "</div>"
      ],
      "text/plain": [
       "           X1         X2       Y\n",
       "0   58.271758  21.169050  Yellow\n",
       "1   52.610102  58.256975    Blue\n",
       "2   22.743925  46.292871     Red\n",
       "3   22.928611  23.782804     Red\n",
       "4   28.829606  26.873953     Red\n",
       "5   41.769966  84.340371    Blue\n",
       "6   78.783755  10.819478  Yellow\n",
       "7   58.959003  33.807893  Yellow\n",
       "8   32.103775  83.987495     Red\n",
       "9   44.027745  79.680364    Blue\n",
       "10  19.975157  74.638950     Red\n",
       "11  80.302039  17.092523  Yellow\n",
       "12  62.331146  73.776701    Blue\n",
       "13  93.856101  75.450254    Blue\n",
       "14  32.084074  96.897156     Red\n",
       "15  52.206662  31.953817  Yellow\n",
       "16  21.256381  40.664401     Red\n",
       "17  96.179212  99.219155    Blue\n",
       "18  26.891624  51.395696     Red\n",
       "19  74.170739  86.893470    Blue"
      ]
     },
     "execution_count": 20,
     "metadata": {},
     "output_type": "execute_result"
    }
   ],
   "source": [
    "data = knn_test_data.iloc[:20]\n",
    "data"
   ]
  },
  {
   "cell_type": "code",
   "execution_count": 21,
   "id": "0c1517ce",
   "metadata": {},
   "outputs": [
    {
     "name": "stderr",
     "output_type": "stream",
     "text": [
      "C:\\Users\\Jerry\\AppData\\Local\\Temp\\ipykernel_18452\\1700397437.py:18: SettingWithCopyWarning: \n",
      "A value is trying to be set on a copy of a slice from a DataFrame.\n",
      "Try using .loc[row_indexer,col_indexer] = value instead\n",
      "\n",
      "See the caveats in the documentation: https://pandas.pydata.org/pandas-docs/stable/user_guide/indexing.html#returning-a-view-versus-a-copy\n",
      "  data[['nn1_cat', 'nn2_cat', 'nn3_cat']] = pd.DataFrame(np_nnc, index = data.index, columns = ['nn1_cat', 'nn2_cat', 'nn3_cat'])\n",
      "C:\\Users\\Jerry\\AppData\\Local\\Temp\\ipykernel_18452\\1700397437.py:18: SettingWithCopyWarning: \n",
      "A value is trying to be set on a copy of a slice from a DataFrame.\n",
      "Try using .loc[row_indexer,col_indexer] = value instead\n",
      "\n",
      "See the caveats in the documentation: https://pandas.pydata.org/pandas-docs/stable/user_guide/indexing.html#returning-a-view-versus-a-copy\n",
      "  data[['nn1_cat', 'nn2_cat', 'nn3_cat']] = pd.DataFrame(np_nnc, index = data.index, columns = ['nn1_cat', 'nn2_cat', 'nn3_cat'])\n",
      "C:\\Users\\Jerry\\AppData\\Local\\Temp\\ipykernel_18452\\1700397437.py:18: SettingWithCopyWarning: \n",
      "A value is trying to be set on a copy of a slice from a DataFrame.\n",
      "Try using .loc[row_indexer,col_indexer] = value instead\n",
      "\n",
      "See the caveats in the documentation: https://pandas.pydata.org/pandas-docs/stable/user_guide/indexing.html#returning-a-view-versus-a-copy\n",
      "  data[['nn1_cat', 'nn2_cat', 'nn3_cat']] = pd.DataFrame(np_nnc, index = data.index, columns = ['nn1_cat', 'nn2_cat', 'nn3_cat'])\n"
     ]
    },
    {
     "data": {
      "text/html": [
       "<div>\n",
       "<style scoped>\n",
       "    .dataframe tbody tr th:only-of-type {\n",
       "        vertical-align: middle;\n",
       "    }\n",
       "\n",
       "    .dataframe tbody tr th {\n",
       "        vertical-align: top;\n",
       "    }\n",
       "\n",
       "    .dataframe thead th {\n",
       "        text-align: right;\n",
       "    }\n",
       "</style>\n",
       "<table border=\"1\" class=\"dataframe\">\n",
       "  <thead>\n",
       "    <tr style=\"text-align: right;\">\n",
       "      <th></th>\n",
       "      <th>X1</th>\n",
       "      <th>X2</th>\n",
       "      <th>Y</th>\n",
       "      <th>nn1_cat</th>\n",
       "      <th>nn2_cat</th>\n",
       "      <th>nn3_cat</th>\n",
       "    </tr>\n",
       "  </thead>\n",
       "  <tbody>\n",
       "    <tr>\n",
       "      <th>0</th>\n",
       "      <td>58.271758</td>\n",
       "      <td>21.169050</td>\n",
       "      <td>Yellow</td>\n",
       "      <td>Yellow</td>\n",
       "      <td>Yellow</td>\n",
       "      <td>Yellow</td>\n",
       "    </tr>\n",
       "    <tr>\n",
       "      <th>1</th>\n",
       "      <td>52.610102</td>\n",
       "      <td>58.256975</td>\n",
       "      <td>Blue</td>\n",
       "      <td>Blue</td>\n",
       "      <td>Blue</td>\n",
       "      <td>Yellow</td>\n",
       "    </tr>\n",
       "    <tr>\n",
       "      <th>2</th>\n",
       "      <td>22.743925</td>\n",
       "      <td>46.292871</td>\n",
       "      <td>Red</td>\n",
       "      <td>Red</td>\n",
       "      <td>Red</td>\n",
       "      <td>Red</td>\n",
       "    </tr>\n",
       "    <tr>\n",
       "      <th>3</th>\n",
       "      <td>22.928611</td>\n",
       "      <td>23.782804</td>\n",
       "      <td>Red</td>\n",
       "      <td>Red</td>\n",
       "      <td>Red</td>\n",
       "      <td>Red</td>\n",
       "    </tr>\n",
       "    <tr>\n",
       "      <th>4</th>\n",
       "      <td>28.829606</td>\n",
       "      <td>26.873953</td>\n",
       "      <td>Red</td>\n",
       "      <td>Red</td>\n",
       "      <td>Red</td>\n",
       "      <td>Red</td>\n",
       "    </tr>\n",
       "    <tr>\n",
       "      <th>5</th>\n",
       "      <td>41.769966</td>\n",
       "      <td>84.340371</td>\n",
       "      <td>Blue</td>\n",
       "      <td>Blue</td>\n",
       "      <td>Red</td>\n",
       "      <td>Red</td>\n",
       "    </tr>\n",
       "    <tr>\n",
       "      <th>6</th>\n",
       "      <td>78.783755</td>\n",
       "      <td>10.819478</td>\n",
       "      <td>Yellow</td>\n",
       "      <td>Yellow</td>\n",
       "      <td>Yellow</td>\n",
       "      <td>Yellow</td>\n",
       "    </tr>\n",
       "    <tr>\n",
       "      <th>7</th>\n",
       "      <td>58.959003</td>\n",
       "      <td>33.807893</td>\n",
       "      <td>Yellow</td>\n",
       "      <td>Yellow</td>\n",
       "      <td>Yellow</td>\n",
       "      <td>Blue</td>\n",
       "    </tr>\n",
       "    <tr>\n",
       "      <th>8</th>\n",
       "      <td>32.103775</td>\n",
       "      <td>83.987495</td>\n",
       "      <td>Red</td>\n",
       "      <td>Blue</td>\n",
       "      <td>Blue</td>\n",
       "      <td>Red</td>\n",
       "    </tr>\n",
       "    <tr>\n",
       "      <th>9</th>\n",
       "      <td>44.027745</td>\n",
       "      <td>79.680364</td>\n",
       "      <td>Blue</td>\n",
       "      <td>Blue</td>\n",
       "      <td>Red</td>\n",
       "      <td>Blue</td>\n",
       "    </tr>\n",
       "  </tbody>\n",
       "</table>\n",
       "</div>"
      ],
      "text/plain": [
       "          X1         X2       Y nn1_cat nn2_cat nn3_cat\n",
       "0  58.271758  21.169050  Yellow  Yellow  Yellow  Yellow\n",
       "1  52.610102  58.256975    Blue    Blue    Blue  Yellow\n",
       "2  22.743925  46.292871     Red     Red     Red     Red\n",
       "3  22.928611  23.782804     Red     Red     Red     Red\n",
       "4  28.829606  26.873953     Red     Red     Red     Red\n",
       "5  41.769966  84.340371    Blue    Blue     Red     Red\n",
       "6  78.783755  10.819478  Yellow  Yellow  Yellow  Yellow\n",
       "7  58.959003  33.807893  Yellow  Yellow  Yellow    Blue\n",
       "8  32.103775  83.987495     Red    Blue    Blue     Red\n",
       "9  44.027745  79.680364    Blue    Blue     Red    Blue"
      ]
     },
     "execution_count": 21,
     "metadata": {},
     "output_type": "execute_result"
    }
   ],
   "source": [
    "howfar = []\n",
    "cat = []\n",
    "nnc = []\n",
    "ktd = np.array(data)\n",
    "\n",
    "for i in ktd:\n",
    "    howfar = []\n",
    "    for j in ktd:\n",
    "        howfar.append([((i[0] - j[0]) ** 2 + (i[1] - j[1]) ** 2) ** 0.5, j[2]])\n",
    "    howfar = sorted(howfar, key=lambda x:x[0])\n",
    "    cat.append(howfar[1:4])\n",
    "\n",
    "for i in cat:\n",
    "    for j in i:\n",
    "        nnc.append(j[1])\n",
    "np_nnc = np.array(nnc)\n",
    "np_nnc = np_nnc.reshape(20,3)\n",
    "data[['nn1_cat', 'nn2_cat', 'nn3_cat']] = pd.DataFrame(np_nnc, index = data.index, columns = ['nn1_cat', 'nn2_cat', 'nn3_cat'])\n",
    "data.head(10)"
   ]
  },
  {
   "cell_type": "markdown",
   "id": "fe320330",
   "metadata": {},
   "source": [
    "2e)  Create a series nn1_preds that has the prediction for each observation using a KNN1 algorithm.  Display the first 10 rows of the prediction series."
   ]
  },
  {
   "cell_type": "code",
   "execution_count": 22,
   "id": "badc3bd5",
   "metadata": {},
   "outputs": [],
   "source": [
    "X = np.array(knn_training_data[['X1', 'X2', 'Y']])\n",
    "y = np.array(knn_training_data[['Y']])\n",
    "\n",
    "X_test = np.array(knn_test_data[['X1', 'X2']])\n",
    "y_test = np.array(knn_test_data[['Y']])"
   ]
  },
  {
   "cell_type": "code",
   "execution_count": 23,
   "id": "dd038157",
   "metadata": {},
   "outputs": [
    {
     "data": {
      "text/plain": [
       "['Yellow',\n",
       " 'Yellow',\n",
       " 'Red',\n",
       " 'Red',\n",
       " 'Red',\n",
       " 'Blue',\n",
       " 'Yellow',\n",
       " 'Yellow',\n",
       " 'Red',\n",
       " 'Blue']"
      ]
     },
     "execution_count": 23,
     "metadata": {},
     "output_type": "execute_result"
    }
   ],
   "source": [
    "k = 1\n",
    "nn1_preds = []\n",
    "Count = {}\n",
    "for i in range(len(X_test)):\n",
    "    d = []\n",
    "    for j in range(len(X)):\n",
    "        dist = ((X_test[i][0] - X[j][0]) ** 2 + (X_test[i][1] - X[j][1]) ** 2) ** 0.5\n",
    "        d.append([dist, X[j][2]])\n",
    "    d = sorted(d, key=lambda x:x[0])\n",
    "    d = d[:k]\n",
    "    for d, j in d:\n",
    "        Count[j] = Count.get(j, 0) + 1\n",
    "    sort_Count = sorted(Count.items(), key=lambda x: x[1], reverse=True)\n",
    "    nn1_preds.append(sort_Count[0][0])\n",
    "    Count = {}\n",
    "nn1_preds[:10]"
   ]
  },
  {
   "cell_type": "markdown",
   "id": "348d2c83",
   "metadata": {},
   "source": [
    "2f)  Calculate the misclassification rate for the KNN1 algorithm on this dataset"
   ]
  },
  {
   "cell_type": "code",
   "execution_count": 24,
   "id": "1f86d35a",
   "metadata": {},
   "outputs": [
    {
     "name": "stdout",
     "output_type": "stream",
     "text": [
      "0.1\n"
     ]
    }
   ],
   "source": [
    "error = 0\n",
    "for p, t in zip(nn1_preds, y_test):\n",
    "    if p != t:\n",
    "        error += 1\n",
    "print(error / len(y_test))"
   ]
  },
  {
   "cell_type": "markdown",
   "id": "53a32dc4",
   "metadata": {},
   "source": [
    "2g)  Create a Pandas series nn3_preds that has the prediction for each observation using a KNN3 algorithm.  Display the first 10 rows of the series.  (If the three nearest neighbors all have different color categories, use the first nearest neighbor category as the prediction)"
   ]
  },
  {
   "cell_type": "code",
   "execution_count": 25,
   "id": "9b7c8754",
   "metadata": {},
   "outputs": [
    {
     "data": {
      "text/plain": [
       "['Yellow',\n",
       " 'Blue',\n",
       " 'Red',\n",
       " 'Red',\n",
       " 'Red',\n",
       " 'Red',\n",
       " 'Yellow',\n",
       " 'Yellow',\n",
       " 'Red',\n",
       " 'Red']"
      ]
     },
     "execution_count": 25,
     "metadata": {},
     "output_type": "execute_result"
    }
   ],
   "source": [
    "k = 3\n",
    "nn3_preds = []\n",
    "Count = {}\n",
    "for i in range(len(X_test)):\n",
    "    d = []\n",
    "    for j in range(len(X)):\n",
    "        dist = ((X_test[i][0] - X[j][0]) ** 2 + (X_test[i][1] - X[j][1]) ** 2) ** 0.5\n",
    "        d.append([dist, X[j][2]])\n",
    "    d = sorted(d, key=lambda x:x[0])\n",
    "    d = d[:k]\n",
    "    for d, j in d:\n",
    "        Count[j] = Count.get(j, 0) + 1\n",
    "    sort_Count = sorted(Count.items(), key=lambda x: x[1], reverse=True)\n",
    "    nn3_preds.append(sort_Count[0][0])\n",
    "    Count = {}\n",
    "nn3_preds[:10]"
   ]
  },
  {
   "cell_type": "markdown",
   "id": "eb722323",
   "metadata": {},
   "source": [
    "2h) Calculate the misclassification rate for the KNN3 algorithm on this dataset"
   ]
  },
  {
   "cell_type": "code",
   "execution_count": 26,
   "id": "0188a45d",
   "metadata": {},
   "outputs": [
    {
     "name": "stdout",
     "output_type": "stream",
     "text": [
      "0.1\n"
     ]
    }
   ],
   "source": [
    "error = 0\n",
    "for p, t in zip(nn3_preds, y_test):\n",
    "    if p != t:\n",
    "        error += 1\n",
    "print(error / len(y_test))"
   ]
  }
 ],
 "metadata": {
  "kernelspec": {
   "display_name": "Python 3.9.7 64-bit",
   "language": "python",
   "name": "python3"
  },
  "language_info": {
   "codemirror_mode": {
    "name": "ipython",
    "version": 3
   },
   "file_extension": ".py",
   "mimetype": "text/x-python",
   "name": "python",
   "nbconvert_exporter": "python",
   "pygments_lexer": "ipython3",
   "version": "3.9.7"
  },
  "vscode": {
   "interpreter": {
    "hash": "81794d4967e6c3204c66dcd87b604927b115b27c00565d3d43f05ba2f3a2cb0d"
   }
  }
 },
 "nbformat": 4,
 "nbformat_minor": 5
}
